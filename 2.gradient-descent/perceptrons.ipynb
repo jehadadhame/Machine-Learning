{
 "cells": [
  {
   "cell_type": "code",
   "execution_count": null,
   "metadata": {},
   "outputs": [
    {
     "name": "stdout",
     "output_type": "stream",
     "text": [
      "(2,)\n",
      "(3,)\n",
      "(3, 2)\n"
     ]
    }
   ],
   "source": []
  },
  {
   "cell_type": "code",
   "execution_count": 14,
   "metadata": {
    "grader_id": "lz4ffelzky"
   },
   "outputs": [
    {
     "name": "stdout",
     "output_type": "stream",
     "text": [
      "Hidden-layer Output:\n",
      "[0.41492192 0.42604313 0.5002434 ]\n",
      "Good job! You got the correct calculation on the hidden layer.\n"
     ]
    }
   ],
   "source": [
    "import numpy as np\n",
    "def sigmoid(x):\n",
    "    \"\"\"\n",
    "    Calculate sigmoid\n",
    "    \"\"\"\n",
    "    return 1/(1+np.exp(-x))\n",
    "# Network size\n",
    "N_input = 4\n",
    "N_hidden = 3\n",
    "N_output = 2\n",
    "np.random.seed(42)\n",
    "\n",
    "# Make some fake data\n",
    "X = np.random.randn(4)\n",
    "weights_input_to_hidden = np.random.normal(0, scale=0.1, size=(N_input, N_hidden))\n",
    "weights_hidden_to_output = np.random.normal(0, scale=0.1, size=(N_hidden, N_output))\n",
    "\n",
    "# TODO: Make a forward pass through the network (hidden layer)\n",
    "hidden_layer_in = np.dot(X,weights_input_to_hidden) # replace with your code\n",
    "hidden_layer_out = sigmoid(hidden_layer_in) # replace with your code\n",
    "\n",
    "print('Hidden-layer Output:')\n",
    "print(hidden_layer_out)\n",
    "\n",
    "### Notebook grading\n",
    "hidden_layer_in_ans = np.dot(X, weights_input_to_hidden)\n",
    "hidden_layer_out_ans = sigmoid(hidden_layer_in_ans)\n",
    "\n",
    "test_hidden_layer_in = hidden_layer_in_ans == hidden_layer_in\n",
    "test_hidden_layer_out = hidden_layer_out_ans == hidden_layer_out\n",
    "\n",
    "if test_hidden_layer_out.all():\n",
    "    print(\"Good job! You got the correct calculation on the hidden layer.\")\n",
    "else:\n",
    "    print('Try again. hidden_layer_out should be {}'.format(hidden_layer_out_ans))"
   ]
  },
  {
   "cell_type": "code",
   "execution_count": 17,
   "metadata": {},
   "outputs": [
    {
     "name": "stdout",
     "output_type": "stream",
     "text": [
      "(3,)\n",
      "(3, 2)\n"
     ]
    }
   ],
   "source": [
    "print(hidden_layer_out.shape)\n",
    "print(weights_hidden_to_output.shape)"
   ]
  },
  {
   "cell_type": "code",
   "execution_count": 18,
   "metadata": {
    "grader_id": "3a1z1kz74eh"
   },
   "outputs": [
    {
     "name": "stdout",
     "output_type": "stream",
     "text": [
      "Output-layer Output:\n",
      "[0.49815196 0.48539772]\n",
      "Good job! You got the correct calculation on the output layer.\n"
     ]
    }
   ],
   "source": [
    "# TODO: Make a forward pass through the network (output layer)\n",
    "\n",
    "output_layer_out_answer = [0.49815196,  0.48539772]\n",
    "\n",
    "output_layer_in = np.dot(hidden_layer_out,weights_hidden_to_output) # replace with your code\n",
    "output_layer_out = sigmoid(output_layer_in) # replace with your code\n",
    "print('Output-layer Output:')\n",
    "print(output_layer_out)\n",
    "\n",
    "### Notebook grading\n",
    "output_layer_in_ans = np.dot(hidden_layer_out_ans, weights_hidden_to_output)\n",
    "output_layer_out_ans = sigmoid(output_layer_in_ans)\n",
    "\n",
    "test_output_layer_out = output_layer_out_ans == output_layer_out\n",
    "\n",
    "if test_output_layer_out.all():\n",
    "    print(\"Good job! You got the correct calculation on the output layer.\")\n",
    "else:\n",
    "    print('Try again. output_layer_out should be {}'.format(output_layer_out_ans))"
   ]
  },
  {
   "cell_type": "code",
   "execution_count": null,
   "metadata": {},
   "outputs": [
    {
     "name": "stdout",
     "output_type": "stream",
     "text": [
      "input layer shape:  (3,)\n",
      "hidden layer weights input shape  (3, 2)\n",
      "hidden layer weights output shape  (2,)\n",
      "hidden layer input  (2,)\n",
      "hidden layer output  (2,)\n",
      "output layer input  ()\n",
      "\n",
      "Try again. Something is wrong in your submission\n"
     ]
    }
   ],
   "source": [
    "import numpy as np\n",
    "def sigmoid(x):\n",
    "    \"\"\"\n",
    "    Calculate sigmoid\n",
    "    \"\"\"\n",
    "    return 1 / (1 + np.exp(-np.array(x, dtype=float)))\n",
    "x = np.array([0.5, 0.1, -0.2])\n",
    "target = 0.6\n",
    "learnrate = 0.5\n",
    "weights_input_hidden = np.array([[0.5, -0.6],\n",
    "                                 [0.1, -0.2],\n",
    "                                 [0.1, 0.7]])\n",
    "weights_hidden_output = np.array([0.1, -0.3])\n",
    "print(\"input layer shape: \", x.shape)\n",
    "print(\"hidden layer weights input shape \",weights_input_hidden.shape)\n",
    "print(\"hidden layer weights output shape \",weights_hidden_output.shape)\n",
    "## Forward pass\n",
    "hidden_layer_input = np.dot(x, weights_input_hidden)\n",
    "hidden_layer_output = sigmoid(hidden_layer_input)\n",
    "output_layer_in = np.dot(hidden_layer_output, weights_hidden_output)\n",
    "output = sigmoid(output_layer_in)\n",
    "\n",
    "## Backwards pass\n",
    "print()\n",
    "## TODO: Calculate output error\n",
    "error = None\n",
    "\n",
    "### Notebook grading\n",
    "error_answer = target - output\n",
    "\n",
    "if error == error_answer:\n",
    "    print(\"Well done!\")\n",
    "else:\n",
    "    print(\"Try again. Something is wrong in your submission\")"
   ]
  },
  {
   "cell_type": "code",
   "execution_count": null,
   "metadata": {},
   "outputs": [],
   "source": [
    "\n",
    "hidden_error_term = np.dot(output_error_term, weights_hidden_output) * \\\n",
    "                    hidden_layer_output * (1 - hidden_layer_output)"
   ]
  },
  {
   "cell_type": "code",
   "execution_count": null,
   "metadata": {},
   "outputs": [
    {
     "name": "stdout",
     "output_type": "stream",
     "text": [
      "\n",
      "Well done!\n",
      "Well done!\n",
      "Well done!\n"
     ]
    }
   ],
   "source": [
    "import numpy as np\n",
    "def sigmoid(x):\n",
    "    \"\"\"\n",
    "    Calculate sigmoid\n",
    "    \"\"\"\n",
    "    return 1 / (1 + np.exp(-np.array(x, dtype=float)))\n",
    "x = np.array([0.5, 0.1, -0.2])\n",
    "target = 0.6\n",
    "learnrate = 0.5\n",
    "weights_input_hidden = np.array([[0.5, -0.6],\n",
    "                                 [0.1, -0.2],\n",
    "                                 [0.1, 0.7]])\n",
    "weights_hidden_output = np.array([0.1, -0.3])\n",
    "\n",
    "## Forward pass\n",
    "hidden_layer_input = np.dot(x, weights_input_hidden)\n",
    "hidden_layer_output = sigmoid(hidden_layer_input)\n",
    "output_layer_in = np.dot(hidden_layer_output, weights_hidden_output)\n",
    "output = sigmoid(output_layer_in)\n",
    "\n",
    "## Backwards pass\n",
    "print()\n",
    "## TODO: Calculate output error\n",
    "error = target - output\n",
    "\n",
    "### Notebook grading\n",
    "error_answer = target - output\n",
    "\n",
    "if error == error_answer:\n",
    "    print(\"Well done!\")\n",
    "else:\n",
    "    print(\"Try again. Something is wrong in your submission\")\n",
    "# TODO: Calculate error term for output layer\n",
    "output_error_term = error * output * (1-output)\n",
    "\n",
    "### Notebook grading\n",
    "\n",
    "del_err_output_answer = error_answer * output * (1 - output)\n",
    "\n",
    "if output_error_term == del_err_output_answer:\n",
    "    print(\"Well done!\")\n",
    "else:\n",
    "    print(\"Try again. Something is wrong in your submission\")\n",
    "# TODO: Calculate error term for hidden layer"
   ]
  },
  {
   "cell_type": "code",
   "execution_count": null,
   "metadata": {},
   "outputs": [
    {
     "name": "stdout",
     "output_type": "stream",
     "text": [
      "Try again. Something is wrong in your submission\n"
     ]
    }
   ],
   "source": [
    "np.dot(output_error_term, weights_hidden_output) "
   ]
  }
 ],
 "metadata": {
  "kernelspec": {
   "display_name": "base",
   "language": "python",
   "name": "python3"
  },
  "language_info": {
   "codemirror_mode": {
    "name": "ipython",
    "version": 3
   },
   "file_extension": ".py",
   "mimetype": "text/x-python",
   "name": "python",
   "nbconvert_exporter": "python",
   "pygments_lexer": "ipython3",
   "version": "3.12.4"
  }
 },
 "nbformat": 4,
 "nbformat_minor": 2
}
