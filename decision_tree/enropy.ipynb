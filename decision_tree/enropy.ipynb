{
 "cells": [
  {
   "cell_type": "markdown",
   "metadata": {},
   "source": [
    "# Entropy \n",
    "how many freedom does a particle have to move around?\n",
    "<img src=\"images/Entropy.png\" width=400>\n",
    "<table style=\"width:50%; border-collapse: collapse; text-align: center; font-family: Arial, sans-serif;\">\n",
    "    <tr style=\"background-color: #f2f2f2; font-weight: bold;\">\n",
    "        <td colspan=\"3\" style=\"padding: 10px; border: 1px solid #dddddd;\">Entropy</td>\n",
    "    </tr>\n",
    "    <tr style=\"font-weight: bold;\">\n",
    "        <td style=\"padding: 10px; border: 1px solid #dddddd;\">High</td>\n",
    "        <td style=\"padding: 10px; border: 1px solid #dddddd;\">Medium</td>\n",
    "        <td style=\"padding: 10px; border: 1px solid #dddddd;\">Low</td>\n",
    "    </tr>\n",
    "    <tr style=\"background-color: #f9f9f9; font-weight: bold;\">\n",
    "        <td style=\"padding: 10px; border: 1px solid #dddddd;\">Low Knowledge</td>\n",
    "        <td style=\"padding: 10px; border: 1px solid #dddddd;\">Medium Knowledge</td>\n",
    "        <td style=\"padding: 10px; border: 1px solid #dddddd;\">High Knowledge</td>\n",
    "    </tr>\n",
    "</table>\n",
    "\n"
   ]
  },
  {
   "cell_type": "markdown",
   "metadata": {},
   "source": [
    "# Entropy Formula 1\n"
   ]
  }
 ],
 "metadata": {
  "language_info": {
   "name": "python"
  }
 },
 "nbformat": 4,
 "nbformat_minor": 2
}
