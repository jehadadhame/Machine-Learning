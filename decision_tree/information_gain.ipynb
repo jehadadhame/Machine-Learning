{
 "cells": [
  {
   "cell_type": "markdown",
   "metadata": {},
   "source": [
    "# Information Gain\n",
    "<img src=\"images\\infrmationGain.png\" width='550'>\n",
    "\n",
    "Infrmation Gain = Change in Entropy <br>\n",
    "Infrmation Gain = Entorpy(parent) - [Entropy(child1) + Entropy(child1)] /2\n",
    "\n",
    "in this example <br>\n",
    "<table>\n",
    "    <tr>\n",
    "        <td width=\"300\">\n",
    "            <img src=\"images/infrmationGain2.png\" width=\"300\" height=\"350\" alt=\"Information Gain Image\">\n",
    "        </td>\n",
    "        <td width=\"300\">\n",
    "            <img src=\"images/infrmationGain3.png\" width=\"300\" height=\"350\" alt=\"Information Gain Image\">           \n",
    "        </td>\n",
    "        <td width=\"300\">\n",
    "            <img src=\"images/infrmationGain4.png\" width=\"300\" height=\"350\" alt=\"Information Gain Image\">           \n",
    "        </td>\n",
    "    </tr>\n",
    "</table>\n",
    "\n",
    "$$\n",
    "\\text{Information Gain} = 1 - 0.72 = 0.28\n",
    "$$\n",
    "$$\n",
    "\\text{Information Gain} = 1 - 1 = 0\n",
    "$$\n",
    "**we don't have any infomation from this split**\n",
    "\n",
    "$$\n",
    "\\text{Information Gain} = 1 - 0 = 1\n",
    "$$\n",
    "**we split the data in perfect way**\n",
    "\n",
    "\n",
    "$$\\text{Information Gain} =  \\text{Entropy(Parent)} - \\left[ \\frac{m}{m+n}\\cdot \\text{Entropy(Child}_1\\text{)} + \\frac{n}{m+n} \\cdot \\text{Entropy(Child}_2\\text{)} \\right] $$\n"
   ]
  },
  {
   "cell_type": "code",
   "execution_count": 1,
   "metadata": {},
   "outputs": [],
   "source": [
    "import numpy as np\n",
    "def calculate_entropy(probabilities):\n",
    "    probabilities = probabilities[np.nonzero(probabilities)]\n",
    "    return -np.sum(probabilities * np.log2(probabilities))\n",
    "def information_gain(parent_probs, left_probs, right_probs):\n",
    "    # Calculate entropy for parent and child nodes\n",
    "    entropy_parent = calculate_entropy(parent_probs)\n",
    "    entropy_left = calculate_entropy(left_probs)\n",
    "    entropy_right = calculate_entropy(right_probs)\n",
    "    \n",
    "    # Weights for the child nodes\n",
    "    weight_left = sum(left_probs)\n",
    "    weight_right = sum(right_probs)\n",
    "    weight_total = weight_left + weight_right\n",
    "    \n",
    "    # Weighted entropy of children\n",
    "    weighted_entropy = (weight_left / weight_total) * entropy_left + (weight_right / weight_total) * entropy_right\n",
    "    \n",
    "    # Information Gain\n",
    "    return entropy_parent - weighted_entropy"
   ]
  },
  {
   "cell_type": "markdown",
   "metadata": {},
   "source": [
    "in this example <br>\n",
    "<img src=\"images/infrmationGain4.png\" width=\"300\" height=\"350\" alt=\"Information Gain Image\">           \n",
    "At first Entropy: 1.4591479170272446\n",
    "if we split them by gender by gender \n",
    "we got this :<br>\n",
    "<img src=\"images/split_by_gender.png\" width=\"200\" height=\"300\" alt=\"Information Gain Image\">           \n",
    "so information gain would be"
   ]
  },
  {
   "cell_type": "code",
   "execution_count": 2,
   "metadata": {},
   "outputs": [
    {
     "name": "stdout",
     "output_type": "stream",
     "text": [
      "0.5408844827697632\n"
     ]
    }
   ],
   "source": [
    "parent_probs = np.array([0.5, 0.3334, 0.16667])\n",
    "left_probs = np.array([0.6667, 0.3334])\n",
    "right_probs = np.array([0.3334, 0.6667])\n",
    "ig = information_gain(parent_probs, left_probs, right_probs)\n",
    "print(ig) # 0.54022"
   ]
  },
  {
   "cell_type": "markdown",
   "metadata": {},
   "source": [
    "but if we use occupation "
   ]
  },
  {
   "cell_type": "code",
   "execution_count": 3,
   "metadata": {},
   "outputs": [
    {
     "name": "stdout",
     "output_type": "stream",
     "text": [
      "0.9999998853234293\n"
     ]
    }
   ],
   "source": [
    "left_probs = np.array([1])\n",
    "right_probs = np.array([0.3334, 0.6667])\n",
    "ig = information_gain(parent_probs, left_probs, right_probs)\n",
    "print(ig) # 1"
   ]
  },
  {
   "cell_type": "markdown",
   "metadata": {},
   "source": [
    "so we will split using occupation first cuasee it have highest **IG**\n",
    "continue for the rest <br>\n",
    "<img src=\"images/spliting_tree.png\" width=\"600\" height=\"350\" alt=\"Information Gain Image\">     "
   ]
  },
  {
   "cell_type": "code",
   "execution_count": 4,
   "metadata": {},
   "outputs": [
    {
     "name": "stdout",
     "output_type": "stream",
     "text": [
      "[4, 0, 0, 6, 9]\n",
      "[6, 0, 0, 3, 8]\n",
      "[[0.4, 0.6], [0, 0], [0, 0], [0.6666666666666666, 0.3333333333333333], [0.5294117647058824, 0.47058823529411764]]\n",
      "   Species  Color  Length (mm)\n",
      "0    Mobug  Brown         11.6\n",
      "1    Mobug   Blue         16.3\n",
      "2    Lobug   Blue         15.1\n",
      "6    Mobug  Brown         15.7\n",
      "12   Mobug  Brown         13.8\n",
      "13   Lobug   Blue         14.5\n",
      "19   Mobug   Blue         14.6\n",
      "21   Lobug  Brown         14.1\n",
      "23   Mobug   Blue         13.1\n"
     ]
    }
   ],
   "source": [
    "import pandas as pd\n",
    "url = \"https://s3.amazonaws.com/video.udacity-data.com/topher/2018/April/5ad940f6_ml-bugs/ml-bugs.csv\"\n",
    "data = pd.read_csv(url)\n",
    "mobug_count = data['Species'].str.count('Mobug').sum()\n",
    "lobug_count = data['Species'].str.count('Lobug').sum()\n",
    "mobug_prob = mobug_count / len(data)\n",
    "lobug_prob = lobug_count / len(data)\n",
    "parent_probs = np.array([mobug_prob, lobug_prob])\n",
    "# print(parent_probs)\n",
    "\n",
    "datablue = data[data['Color'] == 'Blue']\n",
    "databrown = data[data['Color'] == 'brown']\n",
    "datagreen = data[data['Color'] == 'green']\n",
    "datasmaller17 = data[data['Length (mm)'] < 17]\n",
    "databigger20 = data[data['Length (mm)'] < 20]\n",
    "datasets = [datablue, databrown, datagreen, datasmaller17, databigger20]\n",
    "datasets_mobug = [datablue['Species'].str.count('Mobug').sum(),\n",
    " databrown['Species'].str.count('Mobug').sum(),\n",
    " datagreen['Species'].str.count('Mobug').sum(),\n",
    " datasmaller17['Species'].str.count('Mobug').sum(),\n",
    " databigger20['Species'].str.count('Mobug').sum()\n",
    "]\n",
    "datasets_lobug = [datablue['Species'].str.count('Lobug').sum(),\n",
    " databrown['Species'].str.count('Lobug').sum(),\n",
    " datagreen['Species'].str.count('Lobug').sum(),\n",
    " datasmaller17['Species'].str.count('Lobug').sum(),\n",
    " databigger20['Species'].str.count('Lobug').sum()\n",
    "]\n",
    "print(datasets_mobug)\n",
    "print(datasets_lobug)\n",
    "datasets_prop = []\n",
    "for i in range (len(datasets_lobug)):\n",
    "    mobug_count = datasets_mobug[i]\n",
    "    lobug_count = datasets_lobug[i]\n",
    "    total = mobug_count + lobug_count\n",
    "    if(total > 0):\n",
    "        mobug_prob = mobug_count / (total)\n",
    "        lobug_prob = lobug_count / (total)\n",
    "        datasets_prop.append([mobug_prob, lobug_prob])\n",
    "    else:\n",
    "        datasets_prop.append([0, 0])\n",
    "    # print(mobug_count)\n",
    "    # print(lobug_count)\n",
    "    # print(total)\n",
    "print(datasets_prop)\n",
    "\n",
    "print(datasmaller17)"
   ]
  }
 ],
 "metadata": {
  "kernelspec": {
   "display_name": "Python 3",
   "language": "python",
   "name": "python3"
  },
  "language_info": {
   "codemirror_mode": {
    "name": "ipython",
    "version": 3
   },
   "file_extension": ".py",
   "mimetype": "text/x-python",
   "name": "python",
   "nbconvert_exporter": "python",
   "pygments_lexer": "ipython3",
   "version": "3.12.4"
  }
 },
 "nbformat": 4,
 "nbformat_minor": 2
}
