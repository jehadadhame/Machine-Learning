{
 "cells": [
  {
   "cell_type": "markdown",
   "metadata": {},
   "source": [
    "**Prior** refers to guesses we make before having complete information.<br>\n",
    "**Posterior** refers to guesses we've inferred after the new information has arrived.\n",
    "\n",
    "**bayes theorem** switches from what we know to what we infer <br>\n",
    "\n",
    "## what bayes theorem does ??\n",
    "**Based on information that is known, it can infer other information.<br>\n",
    "It infers the probability of A given R.**\n",
    "<hr>\n",
    "<img src=\"img/bayes.png\" width='500'>"
   ]
  },
  {
   "cell_type": "markdown",
   "metadata": {},
   "source": [
    "# Formula for bayes therom\n",
    "\n",
    "<img src=\"img/FormulaForBayesTherom.png\" width = \"750\">\n",
    "\n",
    "$$\n",
    "P(A \\mid R) = \\frac{P(A) \\cdot P(R \\mid A)}{P(A) \\cdot P(R \\mid A) + P(B) \\cdot P(R \\mid B)}\n",
    "$$\n",
    "\n",
    "$$\n",
    "P(B \\mid R) = \\frac{P(B) \\cdot P(R \\mid B)}{P(A) \\cdot P(R \\mid A) + P(B) \\cdot P(R \\mid B)}\n",
    "$$\n",
    "\n",
    "agin \n",
    "**Prior probabilities are what we knew before we knew that R occurred.**\n",
    "**Posterior probabilities are what we inferred after we knew that R occurred**"
   ]
  },
  {
   "cell_type": "code",
   "execution_count": 2,
   "metadata": {},
   "outputs": [
    {
     "name": "stdout",
     "output_type": "stream",
     "text": [
      "[0.42857142857142855, 0.5714285714285714]\n"
     ]
    }
   ],
   "source": [
    "def naiveBaes(pOfA, pOfB, pOfRgivenA,pOfRgivenB):\n",
    "    pa = pOfA * pOfRgivenA\n",
    "    pb = pOfB * pOfRgivenB\n",
    "    \n",
    "    paGivenR = pa / (pa + pb)\n",
    "    pbGivenR = pb / (pa + pb)\n",
    "    return [paGivenR, pbGivenR]\n",
    "\n",
    "print(naiveBaes(3/5,2/5,1/6,2/6))"
   ]
  },
  {
   "cell_type": "markdown",
   "metadata": {},
   "source": [
    "| Key Term              | Definition                                                                                                                                                                                                                           |\n",
    "|-----------------------|--------------------------------------------------------------------------------------------------------------------------------------------------------------------------------------------------------------------------------------|\n",
    "| Conditional probability | In probability theory, conditional probability is a measure of the probability of an event occurring given that another event has (by assumption, presumption, assertion, or evidence) occurred.                                    |\n",
    "| Naive assumptions     | The assumption that probabilities are independent.                                                                                                                                                                                  |\n",
    "| Posterior probabilities | Posterior probabilities are what we inferred after we knew that R occurred.                                                                                                                |\n",
    "| Prior probabilities   | Prior probabilities are what we knew before we knew that R occurred.                                                                                                                          |\n",
    "| Sensitivity           | How often a test correctly gets a positive result for the condition that's being tested for (also known as the “true positive” rate). The true-positive recognition rate.                     |\n",
    "| Specificity           | The proportion of truly negative cases that were classified as negative. The true-negative recognition rate.                                                                                  |\n"
   ]
  }
 ],
 "metadata": {
  "kernelspec": {
   "display_name": "Python 3",
   "language": "python",
   "name": "python3"
  },
  "language_info": {
   "codemirror_mode": {
    "name": "ipython",
    "version": 3
   },
   "file_extension": ".py",
   "mimetype": "text/x-python",
   "name": "python",
   "nbconvert_exporter": "python",
   "pygments_lexer": "ipython3",
   "version": "3.12.4"
  }
 },
 "nbformat": 4,
 "nbformat_minor": 2
}
