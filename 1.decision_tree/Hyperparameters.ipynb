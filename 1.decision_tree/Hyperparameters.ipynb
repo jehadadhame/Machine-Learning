{
 "cells": [
  {
   "cell_type": "markdown",
   "metadata": {},
   "source": [
    "# Maximum Depth\n",
    "The maximum depth of a decision tree is simply the largest possible length between the root to a leaf. A tree of maximum length k can have at most 2^k leaves.\n",
    "<img src=\"images\\MaximumDepth.png\">"
   ]
  },
  {
   "cell_type": "markdown",
   "metadata": {
    "vscode": {
     "languageId": "plaintext"
    }
   },
   "source": [
    "# Minimum number of samples to split\n",
    "A node must have at least min_samples_split samples in order <br>\n",
    "to be large enough to split.<br>\n",
    " If a node has fewer samples than min_samples_split samples,<br> \n",
    "it will not be split, and the splitting process stops <br>\n",
    "<img src=\"images\\Minimum numberofsamplestosplit.png\"><br>\n"
   ]
  },
  {
   "cell_type": "markdown",
   "metadata": {},
   "source": [
    "# Minimum number of samples per leaf\n",
    "When splitting a node, one could run into the problem of having <br>\n",
    "99 samples in one of them, and 1 on the other.<br>\n",
    "This will not take us too far in our process and would be a waste of resources and time.<br>\n",
    "If we want to avoid this, we can set a minimum for the number of samples we allow on each leaf.\n",
    "<img src=\"images\\MinimumNumberOfSamplesPerLeaf.png\">"
   ]
  },
  {
   "cell_type": "code",
   "execution_count": null,
   "metadata": {},
   "outputs": [],
   "source": []
  },
  {
   "cell_type": "code",
   "execution_count": null,
   "metadata": {},
   "outputs": [
    {
     "ename": "SyntaxError",
     "evalue": "unmatched ')' (3215084878.py, line 5)",
     "output_type": "error",
     "traceback": [
      "\u001b[1;36m  Cell \u001b[1;32mIn[1], line 5\u001b[1;36m\u001b[0m\n\u001b[1;33m    model = DecisionTreeClassifier)\u001b[0m\n\u001b[1;37m                                  ^\u001b[0m\n\u001b[1;31mSyntaxError\u001b[0m\u001b[1;31m:\u001b[0m unmatched ')'\n"
     ]
    }
   ],
   "source": [
    "accuracy = []\n",
    "for depth in range (10):\n",
    "    for leaf in range (10):\n",
    "        for split in range (10):\n",
    "            model = DecisionTreeClassifier()\n",
    "            model.fit(X_train,y_train)\n",
    "            y_train_pred = model.predict(X_train)\n",
    "            y_test_pred = model.predict(X_test)\n",
    "\n",
    "            # Calculate the accuracy\n",
    "            from sklearn.metrics import accuracy_score\n",
    "            train_accuracy = accuracy_score(y_train, y_train_pred)\n",
    "            test_accuracy = accuracy_score(y_test, y_test_pred)\n",
    "            print('The training accuracy with depth = {depth} leaf = {leaf} split = {split} accuracy is', train_accuracy)\n",
    "            print('The test accuracy with depth = {depth} leaf = {leaf} split = {split} accuracy is', train_accuracy)\n",
    "            accuracy.append([train_accuracy,test_accuracy])\n",
    "minGap = 10\n",
    "bestTest = []\n",
    "for test in accuracy:\n",
    "    gap = abs(test[0] - test[1])\n",
    "    if gap < minGap:\n",
    "        minGap = gap\n",
    "        bestTest = test\n",
    "print('The best test accuracy is', bestTest)"
   ]
  }
 ],
 "metadata": {
  "kernelspec": {
   "display_name": "Python 3",
   "language": "python",
   "name": "python3"
  },
  "language_info": {
   "codemirror_mode": {
    "name": "ipython",
    "version": 3
   },
   "file_extension": ".py",
   "mimetype": "text/x-python",
   "name": "python",
   "nbconvert_exporter": "python",
   "pygments_lexer": "ipython3",
   "version": "3.12.4"
  }
 },
 "nbformat": 4,
 "nbformat_minor": 2
}
